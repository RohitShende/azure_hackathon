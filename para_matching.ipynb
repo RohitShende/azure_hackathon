{
 "cells": [
  {
   "cell_type": "code",
   "execution_count": 1,
   "id": "acd38a2f",
   "metadata": {
    "ExecuteTime": {
     "end_time": "2022-09-24T10:38:51.334886Z",
     "start_time": "2022-09-24T10:38:51.330266Z"
    }
   },
   "outputs": [],
   "source": [
    "event1 = \"\"\"\n",
    "Tree Plantation by TCS\n",
    "\n",
    "This is a reminder for Mega Tree Plantation Drive on Sunday, 8th July 2018 @ 8.30 am.\n",
    "Please join us with your friends, family, and colleagues. \n",
    "You can register for the event on the link given below:\n",
    "https://docs.google.com/.../1FAIpQLSchpWOp53R.../viewform...\n",
    "Reporting Venue: \n",
    "Main gate of Automotive Research Association of India (ARAI) Company \n",
    "ARAI Hill, Kothrud \n",
    "Landmark: Near Paud Fata, Lane opposite to TVS showroom goes straight to ARAI hill.\n",
    "Google Map Location: https://goo.gl/maps/wcK6ZXKx4o62\n",
    "Names and Contact Numbers of Volunteers:\n",
    "1. Ravi Phadke – 9673459667\n",
    "2. Prashant – 9922229471\n",
    "3. Himanshu - 8698590691\n",
    "4. Neeraj - 70383 25622\n",
    "5. Sameer - 7038325622\n",
    "6. Hrushabh – 7219070101\n",
    "Notes:\n",
    "1. Please bring some equipment for digging the pits since we have limited equipments for large number of volunteers.\n",
    "2. Canteen facility is NOT available nearby. So please keep stock of food and drinking water.\n",
    "3. Wear Sports shoes preferably.\n",
    "4. Keep appropriate provision for safety from rain.\n",
    "5. Mobile network at the venue is not sufficiently available. In case of difficulty try calling from multiple numbers.\n",
    "6. The event is completely volunteer based. No organization is associated with this event. Since the plantation activity is to be done in forest area, please participate on your own risk. Please take proper safety measures towards yourself and your kids/friends.\n",
    "Thank you.\n",
    "\"\"\"\n",
    "\n",
    "event2 = \"\"\"\n",
    "Van Utsav\n",
    "\n",
    "Tree Plantation Day\n",
    "Date: – 22nd July 2019\n",
    "\n",
    "Tree Plantation activity was conducted on 22nd July 2019 as per SPPU circular. \n",
    "The main aim of this activity was to plant native trees and makes green and sustainable campus which is \n",
    "free from pollution. Around 120 Trees were planted in the campus premises. Species like Neem, Gulmohar, \n",
    "Palas, Tamarind were planted.\n",
    "\"\"\"\n",
    "\n",
    "\n",
    "event3 = \"\"\"\n",
    "Yi Pune Tree Plantation Drive\n",
    "\n",
    "Yi Pune, begin our 75 at 75 initiative for 2022 with plantation of 75 trees and making it a full-blown Miyawaki forest soon.\n",
    "\n",
    "So as a part of Yi climate change activities of 2021, I would love to invite everyone on 15th August, 830 am at Panchavati Vanikaran Park, Pashan, Pune for the plantation along with refreshments.\n",
    "\n",
    "We are sure you all will enjoy planting a tree. Get your friends and family members too.\n",
    "\n",
    "We will teach and help you to plant as well, as we want all of you to feel nature so get ready to let your hands a little muddy!\n",
    "\n",
    "LOCATION\n",
    "Panchavati Vanikaran Park\n",
    "Panchawati Road\n",
    "Pune, Maharashtra, India\n",
    "\n",
    "SEE ROUTE\n",
    "\n",
    "\n",
    "Leaflet | © Mapbox © OpenStreetMap\n",
    "CONTACT US\n",
    "For additional event or venue information, please email vishal.lall@cii.in\n",
    "You can also reach us at +918850344676\n",
    "\"\"\"\n",
    "\n",
    "events = [event1, event2, event3]\n"
   ]
  },
  {
   "cell_type": "code",
   "execution_count": 2,
   "id": "61fb0ff0",
   "metadata": {
    "ExecuteTime": {
     "end_time": "2022-09-24T10:38:54.703066Z",
     "start_time": "2022-09-24T10:38:54.700162Z"
    }
   },
   "outputs": [],
   "source": [
    "# !pip install gensim"
   ]
  },
  {
   "cell_type": "code",
   "execution_count": 3,
   "id": "3aacaf61",
   "metadata": {
    "ExecuteTime": {
     "end_time": "2022-09-24T10:39:03.332579Z",
     "start_time": "2022-09-24T10:38:56.359137Z"
    }
   },
   "outputs": [],
   "source": [
    "from scipy import spatial\n",
    "import gensim.downloader as api\n",
    "import numpy as np\n",
    "import string\n",
    "\n",
    "model = api.load(\"glove-wiki-gigaword-50\") #choose from multiple models https://github.com/RaRe-Technologies/gensim-data\n",
    "\n",
    "s0 = 'Mark zuckerberg owns the facebook company'\n",
    "s1 = 'Facebook company ceo is mark zuckerberg'\n",
    "s2 = 'Microsoft is owned by Bill gates'\n",
    "s3 = 'How to learn japanese'\n",
    "\n",
    "def preprocess(s):\n",
    "    s = s.translate(str.maketrans('', '', string.punctuation))\n",
    "    s = s.replace('\\n', ' ')\n",
    "    return [i.lower() for i in s.split()]\n",
    "\n",
    "def get_vector(s):\n",
    "    arr = []\n",
    "    for i in preprocess(s):\n",
    "        try:\n",
    "            arr.append(model[i])\n",
    "        except KeyError:\n",
    "            continue\n",
    "    return np.sum(np.array(arr), axis=0)\n",
    "\n",
    "def get_similarity(s1, s2):\n",
    "    return spatial.distance.cosine(get_vector(s0), get_vector(s1))\n",
    "\n",
    "\n",
    "def show_similar_events(event):\n",
    "    count_matching_events = 0\n",
    "    highest_match = 0\n",
    "    matched_event = None\n",
    "    for i in events:\n",
    "        sim = get_similarity(event, i)\n",
    "        if sim > 0.2:\n",
    "            count_matching_events += 1\n",
    "            if sim > highest_match:\n",
    "                highest_match = sim\n",
    "                matched_event = i\n",
    "    return count_matching_events, matched_event\n",
    "\n",
    "\n",
    "# print('s0 vs s1 ->',1 - spatial.distance.cosine(get_vector(s0), get_vector(s1)))\n",
    "# print('s0 vs s2 ->', 1 - spatial.distance.cosine(get_vector(s0), get_vector(s2)))\n",
    "# print('s0 vs s3 ->', 1 - spatial.distance.cosine(get_vector(s0), get_vector(s3)))"
   ]
  },
  {
   "cell_type": "code",
   "execution_count": 4,
   "id": "ac545204",
   "metadata": {
    "ExecuteTime": {
     "end_time": "2022-09-24T10:39:03.334863Z",
     "start_time": "2022-09-24T10:39:03.333586Z"
    }
   },
   "outputs": [],
   "source": [
    "# !pip install plotly"
   ]
  },
  {
   "cell_type": "code",
   "execution_count": 11,
   "id": "1c3cdc72",
   "metadata": {
    "ExecuteTime": {
     "end_time": "2022-09-24T11:27:52.734060Z",
     "start_time": "2022-09-24T11:27:52.723051Z"
    }
   },
   "outputs": [
    {
     "name": "stdout",
     "output_type": "stream",
     "text": [
      "Matched 3 events\n",
      "Best Match\n",
      "\n",
      "Tree Plantation by TCS\n",
      "\n",
      "This is a reminder for Mega Tree Plantation Drive on Sunday, 8th July 2018 @ 8.30 am.\n",
      "Please join us with your friends, family, and colleagues. \n",
      "You can register for the event on the link given below:\n",
      "https://docs.google.com/.../1FAIpQLSchpWOp53R.../viewform...\n",
      "Reporting Venue: \n",
      "Main gate of Automotive Research Association of India (ARAI) Company \n",
      "ARAI Hill, Kothrud \n",
      "Landmark: Near Paud Fata, Lane opposite to TVS showroom goes straight to ARAI hill.\n",
      "Google Map Location: https://goo.gl/maps/wcK6ZXKx4o62\n",
      "Names and Contact Numbers of Volunteers:\n",
      "1. Ravi Phadke – 9673459667\n",
      "2. Prashant – 9922229471\n",
      "3. Himanshu - 8698590691\n",
      "4. Neeraj - 70383 25622\n",
      "5. Sameer - 7038325622\n",
      "6. Hrushabh – 7219070101\n",
      "Notes:\n",
      "1. Please bring some equipment for digging the pits since we have limited equipments for large number of volunteers.\n",
      "2. Canteen facility is NOT available nearby. So please keep stock of food and drinking water.\n",
      "3. Wear Sports shoes preferably.\n",
      "4. Keep appropriate provision for safety from rain.\n",
      "5. Mobile network at the venue is not sufficiently available. In case of difficulty try calling from multiple numbers.\n",
      "6. The event is completely volunteer based. No organization is associated with this event. Since the plantation activity is to be done in forest area, please participate on your own risk. Please take proper safety measures towards yourself and your kids/friends.\n",
      "Thank you.\n",
      "\n"
     ]
    }
   ],
   "source": [
    "event = \"\"\"\n",
    "Tree plantation drive\n",
    "\n",
    "Pune Tree plantation\n",
    "Near Balewadi Phata\n",
    "Date: 25th Oct 2022\n",
    "Time: 10 am onwards\n",
    "\n",
    "Please bring shoes, water and raincoat\n",
    "\"\"\"\n",
    "\n",
    "matched_count, matched_event = show_similar_events(event)\n",
    "print(f\"Matched {matched_count} events\")\n",
    "print(\"Best Match\")\n",
    "print(matched_event)"
   ]
  },
  {
   "cell_type": "code",
   "execution_count": null,
   "id": "3f61a4e8",
   "metadata": {},
   "outputs": [],
   "source": []
  },
  {
   "cell_type": "code",
   "execution_count": null,
   "id": "3a8401e5",
   "metadata": {},
   "outputs": [],
   "source": []
  },
  {
   "cell_type": "code",
   "execution_count": null,
   "id": "7da5e114",
   "metadata": {},
   "outputs": [],
   "source": []
  },
  {
   "cell_type": "code",
   "execution_count": null,
   "id": "a9e93bd5",
   "metadata": {},
   "outputs": [],
   "source": []
  },
  {
   "cell_type": "code",
   "execution_count": null,
   "id": "71a549ba",
   "metadata": {},
   "outputs": [],
   "source": []
  },
  {
   "cell_type": "code",
   "execution_count": null,
   "id": "f2de1b6d",
   "metadata": {},
   "outputs": [],
   "source": []
  },
  {
   "cell_type": "code",
   "execution_count": 7,
   "id": "32f899d2",
   "metadata": {
    "ExecuteTime": {
     "end_time": "2022-09-24T10:39:20.482155Z",
     "start_time": "2022-09-24T10:39:20.476314Z"
    }
   },
   "outputs": [],
   "source": [
    "import plotly.express as px\n",
    "import pandas as pd\n",
    "\n",
    "df = pd.read_csv('Pitchers.csv')"
   ]
  },
  {
   "cell_type": "code",
   "execution_count": 8,
   "id": "2c54dd25",
   "metadata": {
    "ExecuteTime": {
     "end_time": "2022-09-24T10:39:21.286639Z",
     "start_time": "2022-09-24T10:39:21.055335Z"
    }
   },
   "outputs": [
    {
     "data": {
      "text/plain": [
       "<AxesSubplot:>"
      ]
     },
     "execution_count": 8,
     "metadata": {},
     "output_type": "execute_result"
    },
    {
     "data": {
      "image/png": "[encoded data removed]",
      "text/plain": [
       "<Figure size 432x288 with 1 Axes>"
      ]
     },
     "metadata": {
      "needs_background": "light"
     },
     "output_type": "display_data"
    }
   ],
   "source": [
    "df.plot.bar()"
   ]
  },
  {
   "cell_type": "code",
   "execution_count": 9,
   "id": "ba6b06f5",
   "metadata": {
    "ExecuteTime": {
     "end_time": "2022-09-24T10:39:24.086948Z",
     "start_time": "2022-09-24T10:39:24.074080Z"
    }
   },
   "outputs": [
    {
     "data": {
      "text/html": [
       "<div>\n",
       "<style scoped>\n",
       "    .dataframe tbody tr th:only-of-type {\n",
       "        vertical-align: middle;\n",
       "    }\n",
       "\n",
       "    .dataframe tbody tr th {\n",
       "        vertical-align: top;\n",
       "    }\n",
       "\n",
       "    .dataframe thead th {\n",
       "        text-align: right;\n",
       "    }\n",
       "</style>\n",
       "<table border=\"1\" class=\"dataframe\">\n",
       "  <thead>\n",
       "    <tr style=\"text-align: right;\">\n",
       "      <th></th>\n",
       "      <th>Company Name</th>\n",
       "      <th>CSR contrubition(in hrs / month)</th>\n",
       "    </tr>\n",
       "  </thead>\n",
       "  <tbody>\n",
       "    <tr>\n",
       "      <th>0</th>\n",
       "      <td>TCS</td>\n",
       "      <td>100</td>\n",
       "    </tr>\n",
       "    <tr>\n",
       "      <th>1</th>\n",
       "      <td>Infosys</td>\n",
       "      <td>50</td>\n",
       "    </tr>\n",
       "    <tr>\n",
       "      <th>2</th>\n",
       "      <td>Capgemini</td>\n",
       "      <td>54</td>\n",
       "    </tr>\n",
       "    <tr>\n",
       "      <th>3</th>\n",
       "      <td>Xoriant</td>\n",
       "      <td>87</td>\n",
       "    </tr>\n",
       "    <tr>\n",
       "      <th>4</th>\n",
       "      <td>Persistent Systems</td>\n",
       "      <td>65</td>\n",
       "    </tr>\n",
       "    <tr>\n",
       "      <th>5</th>\n",
       "      <td>Microsoft</td>\n",
       "      <td>79</td>\n",
       "    </tr>\n",
       "    <tr>\n",
       "      <th>6</th>\n",
       "      <td>VmWare</td>\n",
       "      <td>58</td>\n",
       "    </tr>\n",
       "    <tr>\n",
       "      <th>7</th>\n",
       "      <td>Nutanix</td>\n",
       "      <td>88</td>\n",
       "    </tr>\n",
       "    <tr>\n",
       "      <th>8</th>\n",
       "      <td>Citi Bank</td>\n",
       "      <td>14</td>\n",
       "    </tr>\n",
       "    <tr>\n",
       "      <th>9</th>\n",
       "      <td>MasterCard</td>\n",
       "      <td>13</td>\n",
       "    </tr>\n",
       "    <tr>\n",
       "      <th>10</th>\n",
       "      <td>Visa</td>\n",
       "      <td>26</td>\n",
       "    </tr>\n",
       "  </tbody>\n",
       "</table>\n",
       "</div>"
      ],
      "text/plain": [
       "          Company Name  CSR contrubition(in hrs / month)\n",
       "0                  TCS                               100\n",
       "1              Infosys                                50\n",
       "2            Capgemini                                54\n",
       "3              Xoriant                                87\n",
       "4   Persistent Systems                                65\n",
       "5            Microsoft                                79\n",
       "6               VmWare                                58\n",
       "7              Nutanix                                88\n",
       "8            Citi Bank                                14\n",
       "9           MasterCard                                13\n",
       "10                Visa                                26"
      ]
     },
     "execution_count": 9,
     "metadata": {},
     "output_type": "execute_result"
    }
   ],
   "source": [
    "df"
   ]
  },
  {
   "cell_type": "code",
   "execution_count": 10,
   "id": "277f8076",
   "metadata": {
    "ExecuteTime": {
     "end_time": "2022-09-24T10:39:29.104724Z",
     "start_time": "2022-09-24T10:39:28.998251Z"
    }
   },
   "outputs": [
    {
     "data": {
      "image/png": "[encoded data removed]",
      "text/plain": [
       "<Figure size 1440x360 with 1 Axes>"
      ]
     },
     "metadata": {
      "needs_background": "light"
     },
     "output_type": "display_data"
    }
   ],
   "source": [
    "import numpy as np\n",
    "import matplotlib.pyplot as plt\n",
    " \n",
    "  \n",
    "# creating the dataset\n",
    "courses = df['Company Name']\n",
    "values = df['CSR contrubition(in hrs / month)']\n",
    "  \n",
    "fig = plt.figure(figsize = (20, 5))\n",
    " \n",
    "# creating the bar plot\n",
    "plt.bar(courses, values, color ='green',\n",
    "        width = 0.4)\n",
    " \n",
    "plt.xlabel(\"Company Name\")\n",
    "plt.ylabel(\"No. of hours contributed\")\n",
    "plt.title(\"Hourly contribution per organization\")\n",
    "plt.show()"
   ]
  },
  {
   "cell_type": "code",
   "execution_count": null,
   "id": "045397e6",
   "metadata": {},
   "outputs": [],
   "source": []
  }
 ],
 "metadata": {
  "kernelspec": {
   "display_name": "Python 3",
   "language": "python",
   "name": "python3"
  },
  "language_info": {
   "codemirror_mode": {
    "name": "ipython",
    "version": 3
   },
   "file_extension": ".py",
   "mimetype": "text/x-python",
   "name": "python",
   "nbconvert_exporter": "python",
   "pygments_lexer": "ipython3",
   "version": "3.9.4"
  }
 },
 "nbformat": 4,
 "nbformat_minor": 5
}
